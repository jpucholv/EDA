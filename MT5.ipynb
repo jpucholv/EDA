{
 "cells": [
  {
   "cell_type": "code",
   "execution_count": 1,
   "metadata": {},
   "outputs": [],
   "source": [
    "# pip install MetaTrader5"
   ]
  },
  {
   "cell_type": "code",
   "execution_count": 2,
   "metadata": {},
   "outputs": [],
   "source": [
    "import MetaTrader5 as mt5\n",
    "import pandas as pd\n",
    "import time\n",
    "import os"
   ]
  },
  {
   "cell_type": "code",
   "execution_count": 3,
   "metadata": {},
   "outputs": [
    {
     "name": "stdout",
     "output_type": "stream",
     "text": [
      "MetaTrader5 package author:  MetaQuotes Ltd.\n",
      "MetaTrader5 package version:  5.0.45\n"
     ]
    }
   ],
   "source": [
    "# display data on the MetaTrader 5 package\n",
    "print(\"MetaTrader5 package author: \",mt5.__author__)\n",
    "print(\"MetaTrader5 package version: \",mt5.__version__)"
   ]
  },
  {
   "cell_type": "code",
   "execution_count": 4,
   "metadata": {},
   "outputs": [
    {
     "name": "stdout",
     "output_type": "stream",
     "text": [
      "TerminalInfo(community_account=False, community_connection=False, connected=True, dlls_allowed=False, trade_allowed=False, tradeapi_disabled=False, email_enabled=False, ftp_enabled=False, notifications_enabled=False, mqid=True, build=3677, maxbars=100000, codepage=1252, ping_last=35325, community_balance=0.0, retransmission=0.6053447512180719, company='Tradeslide Trading Tech Limited', name='Darwinex MetaTrader 5', language='Spanish', path='C:\\\\Program Files\\\\Darwinex MetaTrader 5', data_path='C:\\\\Users\\\\OY\\\\AppData\\\\Roaming\\\\MetaQuotes\\\\Terminal\\\\6C3C6A11D1C3791DD4DBF45421BF8028', commondata_path='C:\\\\Users\\\\OY\\\\AppData\\\\Roaming\\\\MetaQuotes\\\\Terminal\\\\Common')\n",
      "(500, 3677, '11 Apr 2023')\n"
     ]
    }
   ],
   "source": [
    "# establish MetaTrader 5 connection to a specified trading account\n",
    "if not mt5.initialize(login=4000013671, server=\"Darwinex-Live\",password=\"K6Kpnug0RE6U\"):\n",
    "    print(\"initialize() failed, error code =\",mt5.last_error())\n",
    "    quit()\n",
    "\n",
    "# display data on connection status, server name and trading account\n",
    "print(mt5.terminal_info())\n",
    "# display data on MetaTrader 5 version\n",
    "print(mt5.version())"
   ]
  },
  {
   "cell_type": "code",
   "execution_count": 5,
   "metadata": {},
   "outputs": [
    {
     "name": "stdout",
     "output_type": "stream",
     "text": [
      "AccountInfo(login=4000013671, trade_mode=2, leverage=200, limit_orders=400, margin_so_mode=0, trade_allowed=True, trade_expert=True, margin_mode=2, currency_digits=2, fifo_close=False, balance=68472.46, credit=0.0, profit=0.0, equity=68472.46, margin=0.0, margin_free=68472.46, margin_level=0.0, margin_so_call=100.0, margin_so_so=50.0, margin_initial=0.0, margin_maintenance=0.0, assets=0.0, liabilities=0.0, commission_blocked=0.0, name='NinjaSpeed_MT5', server='Darwinex-Live', currency='USD', company='Darwinex')\n",
      "Show account_info()._asdict():\n",
      "  login=4000013671\n",
      "  trade_mode=2\n",
      "  leverage=200\n",
      "  limit_orders=400\n",
      "  margin_so_mode=0\n",
      "  trade_allowed=True\n",
      "  trade_expert=True\n",
      "  margin_mode=2\n",
      "  currency_digits=2\n",
      "  fifo_close=False\n",
      "  balance=68472.46\n",
      "  credit=0.0\n",
      "  profit=0.0\n",
      "  equity=68472.46\n",
      "  margin=0.0\n",
      "  margin_free=68472.46\n",
      "  margin_level=0.0\n",
      "  margin_so_call=100.0\n",
      "  margin_so_so=50.0\n",
      "  margin_initial=0.0\n",
      "  margin_maintenance=0.0\n",
      "  assets=0.0\n",
      "  liabilities=0.0\n",
      "  commission_blocked=0.0\n",
      "  name=NinjaSpeed_MT5\n",
      "  server=Darwinex-Live\n",
      "  currency=USD\n",
      "  company=Darwinex\n",
      "\n"
     ]
    }
   ],
   "source": [
    "# connect to the trade account specifying a password and a server\n",
    "authorized=mt5.login(login=4000013671, server=\"Darwinex-Live\",password=\"K6Kpnug0RE6U\")\n",
    "if authorized:\n",
    "    account_info=mt5.account_info()\n",
    "    if account_info!=None:\n",
    "        # display trading account data 'as is'\n",
    "        print(account_info)\n",
    "        # display trading account data in the form of a dictionary\n",
    "        print(\"Show account_info()._asdict():\")\n",
    "        account_info_dict = mt5.account_info()._asdict()\n",
    "        for prop in account_info_dict:\n",
    "            print(\"  {}={}\".format(prop, account_info_dict[prop]))\n",
    "        print()\n",
    "else:\n",
    "    print(\"failed to connect to trade account 25115284 with password=gqz0343lbdm, error code =\",mt5.last_error())"
   ]
  },
  {
   "cell_type": "code",
   "execution_count": 6,
   "metadata": {},
   "outputs": [
    {
     "data": {
      "text/html": [
       "<div>\n",
       "<style scoped>\n",
       "    .dataframe tbody tr th:only-of-type {\n",
       "        vertical-align: middle;\n",
       "    }\n",
       "\n",
       "    .dataframe tbody tr th {\n",
       "        vertical-align: top;\n",
       "    }\n",
       "\n",
       "    .dataframe thead th {\n",
       "        text-align: right;\n",
       "    }\n",
       "</style>\n",
       "<table border=\"1\" class=\"dataframe\">\n",
       "  <thead>\n",
       "    <tr style=\"text-align: right;\">\n",
       "      <th></th>\n",
       "      <th>bid</th>\n",
       "      <th>ask</th>\n",
       "      <th>MA_8</th>\n",
       "      <th>Derivada_8</th>\n",
       "    </tr>\n",
       "  </thead>\n",
       "  <tbody>\n",
       "    <tr>\n",
       "      <th>date</th>\n",
       "      <td>NaN</td>\n",
       "      <td>NaN</td>\n",
       "      <td>NaN</td>\n",
       "      <td>NaN</td>\n",
       "    </tr>\n",
       "  </tbody>\n",
       "</table>\n",
       "</div>"
      ],
      "text/plain": [
       "      bid  ask MA_8 Derivada_8\n",
       "date  NaN  NaN  NaN        NaN"
      ]
     },
     "execution_count": 6,
     "metadata": {},
     "output_type": "execute_result"
    }
   ],
   "source": [
    "# Crear DataFrame\n",
    "data = pd.DataFrame(index=['date'], columns=['bid', 'ask', 'MA_8', 'Derivada_8'])\n",
    "data"
   ]
  },
  {
   "cell_type": "code",
   "execution_count": 7,
   "metadata": {},
   "outputs": [
    {
     "name": "stdout",
     "output_type": "stream",
     "text": [
      "Saldo disponible: 68472.46\n",
      "Equidad: 68472.46\n",
      "Margen utilizado: 0.0\n",
      "Tamaño máximo de posición: 0\n",
      "bid           14466.5\n",
      "ask           14467.3\n",
      "MA_8              NaN\n",
      "Derivada_8        NaN\n",
      "Name: 1685670725691, dtype: float64\n"
     ]
    },
    {
     "ename": "TypeError",
     "evalue": "time.sleep() takes exactly one argument (0 given)",
     "output_type": "error",
     "traceback": [
      "\u001b[1;31m---------------------------------------------------------------------------\u001b[0m",
      "\u001b[1;31mTypeError\u001b[0m                                 Traceback (most recent call last)",
      "Cell \u001b[1;32mIn[7], line 76\u001b[0m\n\u001b[0;32m     72\u001b[0m     position \u001b[39m=\u001b[39m \u001b[39m'\u001b[39m\u001b[39mSELL\u001b[39m\u001b[39m'\u001b[39m\n\u001b[0;32m     74\u001b[0m \u001b[39mprint\u001b[39m(data\u001b[39m.\u001b[39miloc[\u001b[39m-\u001b[39m\u001b[39m1\u001b[39m])\n\u001b[1;32m---> 76\u001b[0m time\u001b[39m.\u001b[39;49msleep()\n",
      "\u001b[1;31mTypeError\u001b[0m: time.sleep() takes exactly one argument (0 given)"
     ]
    }
   ],
   "source": [
    "ric = 'NDX'\n",
    "position = None\n",
    "\n",
    "while True:\n",
    "    os.system('cls')\n",
    "\n",
    "    # Intentar habilitar la visualización de {ric} en MarketWatch\n",
    "    selected = mt5.symbol_select(ric, True)\n",
    "    if not selected:\n",
    "        print(f\"Failed to select {ric}\")\n",
    "        mt5.shutdown()\n",
    "        quit()\n",
    "\n",
    "    # Obtener el último tick de {ric}\n",
    "    lasttick = mt5.symbol_info_tick(ric)\n",
    "\n",
    "    # Verificar si el mercado está cerrado\n",
    "    if lasttick.time_msc == 0:\n",
    "        print(\"Mercado cerrado\")\n",
    "        time.sleep(60)\n",
    "        continue\n",
    "\n",
    "    # Crear un nuevo DataFrame con el registro actual\n",
    "    nuevo_registro = pd.DataFrame({'date': [lasttick.time_msc],\n",
    "                                   'bid': [lasttick.bid],\n",
    "                                   'ask': [lasttick.ask],\n",
    "                                   'MA_8': data['bid'].rolling(window=8).mean().iloc[-1] if len(data) > 0 else None,\n",
    "                                   'Derivada_8': data['bid'].diff().rolling(window=8).mean().iloc[-1] if len(data) > 0 else None})\n",
    "\n",
    "    # Establecer la columna 'date' como el índice\n",
    "    nuevo_registro = nuevo_registro.set_index('date')\n",
    "\n",
    "    # Concatenar el nuevo registro al DataFrame existente\n",
    "    data = pd.concat([data, nuevo_registro])\n",
    "\n",
    "    # Obtener el saldo disponible en la cuenta\n",
    "    account_info = mt5.account_info()\n",
    "    balance = account_info.balance\n",
    "    equity = account_info.equity\n",
    "    margin = account_info.margin\n",
    "\n",
    "    # Calcular el tamaño de posición solo si el margen es distinto de cero\n",
    "    if margin != 0:\n",
    "        leverage = account_info.margin_mode\n",
    "        margin_level = (equity / margin) * 100  # Nivel de margen en porcentaje\n",
    "        max_position_size = (balance * leverage) / margin_level  # Tamaño máximo de posición\n",
    "    else:\n",
    "        max_position_size = 0  # O cualquier otro valor que desees asignar si el margen es cero\n",
    "\n",
    "    # Imprimir resultados\n",
    "    print(\"Saldo disponible:\", balance)\n",
    "    print(\"Equidad:\", equity)\n",
    "    print(\"Margen utilizado:\", margin)\n",
    "    print(\"Tamaño máximo de posición:\", max_position_size)\n",
    "\n",
    "    # Verificar la condición para enviar una orden de compra\n",
    "    if data['Derivada_8'].iloc[-1] > 0 and position != 'BUY':\n",
    "        if position == 'SELL':\n",
    "            # Cerrar posición corta\n",
    "            mt5.order_send(ric, 1, 0, 0, 0)  # Código 1 para cerrar la posición\n",
    "        # Abrir posición larga\n",
    "        mt5.order_send(ric, mt5.ORDER_TYPE_BUY, max_position_size, lasttick.ask, 0)\n",
    "        position = 'BUY'\n",
    "\n",
    "    # Verificar la condición para enviar una orden de venta\n",
    "    if data['Derivada_8'].iloc[-1] < 0 and position != 'SELL':\n",
    "        if position == 'BUY':\n",
    "            # Cerrar posición larga\n",
    "            mt5.order_send(ric, 1, 0, 0, 0)  # Código 1 para cerrar la posición\n",
    "        # Abrir posición corta\n",
    "        mt5.order_send(ric, mt5.ORDER_TYPE_SELL, max_position_size, lasttick.bid, 0)\n",
    "        position = 'SELL'\n",
    "\n",
    "    print(data.iloc[-1])\n",
    "\n",
    "    time.sleep()"
   ]
  },
  {
   "cell_type": "code",
   "execution_count": null,
   "metadata": {},
   "outputs": [
    {
     "data": {
      "text/plain": [
       "True"
      ]
     },
     "execution_count": 64,
     "metadata": {},
     "output_type": "execute_result"
    }
   ],
   "source": [
    "# shut down connection to the MetaTrader 5 terminal\n",
    "mt5.shutdown()"
   ]
  }
 ],
 "metadata": {
  "kernelspec": {
   "display_name": "Python 3",
   "language": "python",
   "name": "python3"
  },
  "language_info": {
   "codemirror_mode": {
    "name": "ipython",
    "version": 3
   },
   "file_extension": ".py",
   "mimetype": "text/x-python",
   "name": "python",
   "nbconvert_exporter": "python",
   "pygments_lexer": "ipython3",
   "version": "3.11.1"
  },
  "orig_nbformat": 4
 },
 "nbformat": 4,
 "nbformat_minor": 2
}
