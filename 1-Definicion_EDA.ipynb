{
 "cells": [
  {
   "attachments": {},
   "cell_type": "markdown",
   "metadata": {},
   "source": [
    "![imagen](./img/ejercicios.png)"
   ]
  },
  {
   "attachments": {},
   "cell_type": "markdown",
   "metadata": {},
   "source": [
    "# INFORMACIÓN DEL PROYECTO"
   ]
  },
  {
   "attachments": {},
   "cell_type": "markdown",
   "metadata": {},
   "source": [
    "### TÍTULO"
   ]
  },
  {
   "cell_type": "code",
   "execution_count": null,
   "metadata": {},
   "outputs": [],
   "source": [
    "#Escribe el título del proyecto en Markdown\n",
    "titulo = \"Análisis de los mercados financieros\""
   ]
  },
  {
   "attachments": {},
   "cell_type": "markdown",
   "metadata": {},
   "source": [
    "### TEMA"
   ]
  },
  {
   "cell_type": "code",
   "execution_count": null,
   "metadata": {},
   "outputs": [],
   "source": [
    "# Describe brevemente el tema del proyecto en Markdown\n",
    "tema = \"Partiendo de la información del precio de un activo trataré de definir el momento de mercado en que se encuetra\""
   ]
  },
  {
   "attachments": {},
   "cell_type": "markdown",
   "metadata": {},
   "source": [
    "### HIPÓTESIS"
   ]
  },
  {
   "attachments": {},
   "cell_type": "markdown",
   "metadata": {},
   "source": [
    "Define aquí lo que será la hipótesis de tu proyecto.\n",
    "Deberás tener más de una, pero tu proyecto lo harás teniendo una principal hipótesis."
   ]
  },
  {
   "cell_type": "code",
   "execution_count": null,
   "metadata": {},
   "outputs": [],
   "source": [
    "# Escribe tu hipótesis principal en Markdown\n",
    "hipotesis_1 = \"Es posible definir si un mercado es alcísta o bajista en función de la posición relativa y la pendiente de las medias\\\n",
    "    móviles más utilizadas (8, 21, 30, 50, 100, 200). \""
   ]
  },
  {
   "cell_type": "code",
   "execution_count": null,
   "metadata": {},
   "outputs": [],
   "source": [
    "# Escribe más hipótesis si las hubiera en Markdown\n",
    "hipotesis_2 = \"El mercado es fractal. Compararé los resultados obtenidos para los marcos temporales más utilizados (1m,5m,15m,1h,2h,4h,1d,1s,1m)\"\n",
    "hipotesis_3 = \"Existe relación entre principales noticias económicas y la volatilidad\"\n",
    "hipotesis_4 = \"Existe relación entre el sentimiento del mercado y la dirección del precio\"\n",
    "hipotesis_5 = \"Existe relación entre los patrones técnicos y el movimiento del precio\"\n",
    "# ...\n"
   ]
  },
  {
   "attachments": {},
   "cell_type": "markdown",
   "metadata": {},
   "source": [
    "## OBTENCIÓN DE LOS DATOS"
   ]
  },
  {
   "attachments": {},
   "cell_type": "markdown",
   "metadata": {},
   "source": [
    "### DATASETS Y FUENTES ALTERNATIVAS DE DATOS"
   ]
  },
  {
   "attachments": {},
   "cell_type": "markdown",
   "metadata": {},
   "source": [
    "Incluye aquí una vista del dataset o datasets de los que partirás para poder evaluar tu hipótesis. <br>\n",
    "También incluye el origen de estos datos y su fuente."
   ]
  },
  {
   "cell_type": "code",
   "execution_count": 3,
   "metadata": {},
   "outputs": [],
   "source": [
    "import pandas as pd\n",
    "# guarda en variables los datasets y su fuente\n",
    "df_1 = pd.read_csv('NQ=F_yfinance.csv')\n",
    "fuente_1 = \"yfinance\"\n",
    "df_2 = pd.read_csv('NDX_ASK_2019-05-17_10.csv')\n",
    "fuente_2 = \"darwinex\"\n",
    "# df_3 = pd.DataFrame()\n",
    "# fuente_3 = \"\"\n",
    "# df_4 = pd.DataFrame()\n",
    "# fuente_4 = \"\"\n",
    "# df_5 = pd.DataFrame()\n",
    "# fuente_5 = \"\"\n",
    "# ..."
   ]
  },
  {
   "attachments": {},
   "cell_type": "markdown",
   "metadata": {},
   "source": [
    "Muestra mediante un head() los principales datasets con los que vas a trabajar"
   ]
  },
  {
   "cell_type": "code",
   "execution_count": 6,
   "metadata": {},
   "outputs": [
    {
     "data": {
      "text/html": [
       "<div>\n",
       "<style scoped>\n",
       "    .dataframe tbody tr th:only-of-type {\n",
       "        vertical-align: middle;\n",
       "    }\n",
       "\n",
       "    .dataframe tbody tr th {\n",
       "        vertical-align: top;\n",
       "    }\n",
       "\n",
       "    .dataframe thead th {\n",
       "        text-align: right;\n",
       "    }\n",
       "</style>\n",
       "<table border=\"1\" class=\"dataframe\">\n",
       "  <thead>\n",
       "    <tr style=\"text-align: right;\">\n",
       "      <th></th>\n",
       "      <th>Date</th>\n",
       "      <th>Open</th>\n",
       "      <th>High</th>\n",
       "      <th>Low</th>\n",
       "      <th>Close</th>\n",
       "      <th>Volume</th>\n",
       "      <th>Dividends</th>\n",
       "      <th>Stock Splits</th>\n",
       "    </tr>\n",
       "  </thead>\n",
       "  <tbody>\n",
       "    <tr>\n",
       "      <th>0</th>\n",
       "      <td>2000-09-18 00:00:00-04:00</td>\n",
       "      <td>3721.00</td>\n",
       "      <td>3785.50</td>\n",
       "      <td>3602.00</td>\n",
       "      <td>3653.50</td>\n",
       "      <td>72994</td>\n",
       "      <td>0.0</td>\n",
       "      <td>0.0</td>\n",
       "    </tr>\n",
       "    <tr>\n",
       "      <th>1</th>\n",
       "      <td>2000-09-19 00:00:00-04:00</td>\n",
       "      <td>3658.50</td>\n",
       "      <td>3817.00</td>\n",
       "      <td>3656.00</td>\n",
       "      <td>3804.00</td>\n",
       "      <td>70029</td>\n",
       "      <td>0.0</td>\n",
       "      <td>0.0</td>\n",
       "    </tr>\n",
       "    <tr>\n",
       "      <th>2</th>\n",
       "      <td>2000-09-20 00:00:00-04:00</td>\n",
       "      <td>3801.50</td>\n",
       "      <td>3874.00</td>\n",
       "      <td>3715.50</td>\n",
       "      <td>3853.00</td>\n",
       "      <td>78832</td>\n",
       "      <td>0.0</td>\n",
       "      <td>0.0</td>\n",
       "    </tr>\n",
       "    <tr>\n",
       "      <th>3</th>\n",
       "      <td>2000-09-21 00:00:00-04:00</td>\n",
       "      <td>3852.00</td>\n",
       "      <td>3874.00</td>\n",
       "      <td>3744.00</td>\n",
       "      <td>3765.00</td>\n",
       "      <td>70719</td>\n",
       "      <td>0.0</td>\n",
       "      <td>0.0</td>\n",
       "    </tr>\n",
       "    <tr>\n",
       "      <th>4</th>\n",
       "      <td>2000-09-22 00:00:00-04:00</td>\n",
       "      <td>3673.00</td>\n",
       "      <td>3780.00</td>\n",
       "      <td>3615.00</td>\n",
       "      <td>3776.00</td>\n",
       "      <td>55926</td>\n",
       "      <td>0.0</td>\n",
       "      <td>0.0</td>\n",
       "    </tr>\n",
       "    <tr>\n",
       "      <th>...</th>\n",
       "      <td>...</td>\n",
       "      <td>...</td>\n",
       "      <td>...</td>\n",
       "      <td>...</td>\n",
       "      <td>...</td>\n",
       "      <td>...</td>\n",
       "      <td>...</td>\n",
       "      <td>...</td>\n",
       "    </tr>\n",
       "    <tr>\n",
       "      <th>5724</th>\n",
       "      <td>2023-05-12 00:00:00-04:00</td>\n",
       "      <td>13446.00</td>\n",
       "      <td>13494.25</td>\n",
       "      <td>13310.50</td>\n",
       "      <td>13396.25</td>\n",
       "      <td>628035</td>\n",
       "      <td>0.0</td>\n",
       "      <td>0.0</td>\n",
       "    </tr>\n",
       "    <tr>\n",
       "      <th>5725</th>\n",
       "      <td>2023-05-15 00:00:00-04:00</td>\n",
       "      <td>13378.75</td>\n",
       "      <td>13480.00</td>\n",
       "      <td>13350.00</td>\n",
       "      <td>13468.00</td>\n",
       "      <td>495940</td>\n",
       "      <td>0.0</td>\n",
       "      <td>0.0</td>\n",
       "    </tr>\n",
       "    <tr>\n",
       "      <th>5726</th>\n",
       "      <td>2023-05-16 00:00:00-04:00</td>\n",
       "      <td>13461.00</td>\n",
       "      <td>13554.50</td>\n",
       "      <td>13426.25</td>\n",
       "      <td>13483.25</td>\n",
       "      <td>561834</td>\n",
       "      <td>0.0</td>\n",
       "      <td>0.0</td>\n",
       "    </tr>\n",
       "    <tr>\n",
       "      <th>5727</th>\n",
       "      <td>2023-05-17 00:00:00-04:00</td>\n",
       "      <td>13498.50</td>\n",
       "      <td>13669.00</td>\n",
       "      <td>13474.25</td>\n",
       "      <td>13643.50</td>\n",
       "      <td>561834</td>\n",
       "      <td>0.0</td>\n",
       "      <td>0.0</td>\n",
       "    </tr>\n",
       "    <tr>\n",
       "      <th>5728</th>\n",
       "      <td>2023-05-18 00:00:00-04:00</td>\n",
       "      <td>13640.50</td>\n",
       "      <td>13913.00</td>\n",
       "      <td>13628.25</td>\n",
       "      <td>13912.50</td>\n",
       "      <td>739256</td>\n",
       "      <td>0.0</td>\n",
       "      <td>0.0</td>\n",
       "    </tr>\n",
       "  </tbody>\n",
       "</table>\n",
       "<p>5729 rows × 8 columns</p>\n",
       "</div>"
      ],
      "text/plain": [
       "                           Date      Open      High       Low     Close  \\\n",
       "0     2000-09-18 00:00:00-04:00   3721.00   3785.50   3602.00   3653.50   \n",
       "1     2000-09-19 00:00:00-04:00   3658.50   3817.00   3656.00   3804.00   \n",
       "2     2000-09-20 00:00:00-04:00   3801.50   3874.00   3715.50   3853.00   \n",
       "3     2000-09-21 00:00:00-04:00   3852.00   3874.00   3744.00   3765.00   \n",
       "4     2000-09-22 00:00:00-04:00   3673.00   3780.00   3615.00   3776.00   \n",
       "...                         ...       ...       ...       ...       ...   \n",
       "5724  2023-05-12 00:00:00-04:00  13446.00  13494.25  13310.50  13396.25   \n",
       "5725  2023-05-15 00:00:00-04:00  13378.75  13480.00  13350.00  13468.00   \n",
       "5726  2023-05-16 00:00:00-04:00  13461.00  13554.50  13426.25  13483.25   \n",
       "5727  2023-05-17 00:00:00-04:00  13498.50  13669.00  13474.25  13643.50   \n",
       "5728  2023-05-18 00:00:00-04:00  13640.50  13913.00  13628.25  13912.50   \n",
       "\n",
       "      Volume  Dividends  Stock Splits  \n",
       "0      72994        0.0           0.0  \n",
       "1      70029        0.0           0.0  \n",
       "2      78832        0.0           0.0  \n",
       "3      70719        0.0           0.0  \n",
       "4      55926        0.0           0.0  \n",
       "...      ...        ...           ...  \n",
       "5724  628035        0.0           0.0  \n",
       "5725  495940        0.0           0.0  \n",
       "5726  561834        0.0           0.0  \n",
       "5727  561834        0.0           0.0  \n",
       "5728  739256        0.0           0.0  \n",
       "\n",
       "[5729 rows x 8 columns]"
      ]
     },
     "execution_count": 6,
     "metadata": {},
     "output_type": "execute_result"
    }
   ],
   "source": [
    "# Primer dataset\n",
    "df_1"
   ]
  },
  {
   "cell_type": "code",
   "execution_count": 7,
   "metadata": {},
   "outputs": [
    {
     "data": {
      "text/html": [
       "<div>\n",
       "<style scoped>\n",
       "    .dataframe tbody tr th:only-of-type {\n",
       "        vertical-align: middle;\n",
       "    }\n",
       "\n",
       "    .dataframe tbody tr th {\n",
       "        vertical-align: top;\n",
       "    }\n",
       "\n",
       "    .dataframe thead th {\n",
       "        text-align: right;\n",
       "    }\n",
       "</style>\n",
       "<table border=\"1\" class=\"dataframe\">\n",
       "  <thead>\n",
       "    <tr style=\"text-align: right;\">\n",
       "      <th></th>\n",
       "      <th>1558087200042</th>\n",
       "      <th>7553.7</th>\n",
       "      <th>3.0</th>\n",
       "    </tr>\n",
       "  </thead>\n",
       "  <tbody>\n",
       "    <tr>\n",
       "      <th>0</th>\n",
       "      <td>1558087200086</td>\n",
       "      <td>7554.0</td>\n",
       "      <td>11.0</td>\n",
       "    </tr>\n",
       "    <tr>\n",
       "      <th>1</th>\n",
       "      <td>1558087200090</td>\n",
       "      <td>7553.7</td>\n",
       "      <td>3.0</td>\n",
       "    </tr>\n",
       "    <tr>\n",
       "      <th>2</th>\n",
       "      <td>1558087200290</td>\n",
       "      <td>7554.0</td>\n",
       "      <td>11.0</td>\n",
       "    </tr>\n",
       "    <tr>\n",
       "      <th>3</th>\n",
       "      <td>1558087200348</td>\n",
       "      <td>7553.7</td>\n",
       "      <td>3.0</td>\n",
       "    </tr>\n",
       "    <tr>\n",
       "      <th>4</th>\n",
       "      <td>1558087200365</td>\n",
       "      <td>7554.0</td>\n",
       "      <td>11.0</td>\n",
       "    </tr>\n",
       "    <tr>\n",
       "      <th>...</th>\n",
       "      <td>...</td>\n",
       "      <td>...</td>\n",
       "      <td>...</td>\n",
       "    </tr>\n",
       "    <tr>\n",
       "      <th>6854</th>\n",
       "      <td>1558090796952</td>\n",
       "      <td>7542.6</td>\n",
       "      <td>8.0</td>\n",
       "    </tr>\n",
       "    <tr>\n",
       "      <th>6855</th>\n",
       "      <td>1558090798610</td>\n",
       "      <td>7542.9</td>\n",
       "      <td>8.0</td>\n",
       "    </tr>\n",
       "    <tr>\n",
       "      <th>6856</th>\n",
       "      <td>1558090799669</td>\n",
       "      <td>7543.2</td>\n",
       "      <td>11.0</td>\n",
       "    </tr>\n",
       "    <tr>\n",
       "      <th>6857</th>\n",
       "      <td>1558090799988</td>\n",
       "      <td>7543.0</td>\n",
       "      <td>3.0</td>\n",
       "    </tr>\n",
       "    <tr>\n",
       "      <th>6858</th>\n",
       "      <td>1558090799990</td>\n",
       "      <td>7542.7</td>\n",
       "      <td>3.0</td>\n",
       "    </tr>\n",
       "  </tbody>\n",
       "</table>\n",
       "<p>6859 rows × 3 columns</p>\n",
       "</div>"
      ],
      "text/plain": [
       "      1558087200042  7553.7   3.0\n",
       "0     1558087200086  7554.0  11.0\n",
       "1     1558087200090  7553.7   3.0\n",
       "2     1558087200290  7554.0  11.0\n",
       "3     1558087200348  7553.7   3.0\n",
       "4     1558087200365  7554.0  11.0\n",
       "...             ...     ...   ...\n",
       "6854  1558090796952  7542.6   8.0\n",
       "6855  1558090798610  7542.9   8.0\n",
       "6856  1558090799669  7543.2  11.0\n",
       "6857  1558090799988  7543.0   3.0\n",
       "6858  1558090799990  7542.7   3.0\n",
       "\n",
       "[6859 rows x 3 columns]"
      ]
     },
     "execution_count": 7,
     "metadata": {},
     "output_type": "execute_result"
    }
   ],
   "source": [
    "# Siguiente dataset...\n",
    "df_2"
   ]
  }
 ],
 "metadata": {
  "kernelspec": {
   "display_name": "Python 3.7.4 64-bit",
   "language": "python",
   "name": "python3"
  },
  "language_info": {
   "codemirror_mode": {
    "name": "ipython",
    "version": 3
   },
   "file_extension": ".py",
   "mimetype": "text/x-python",
   "name": "python",
   "nbconvert_exporter": "python",
   "pygments_lexer": "ipython3",
   "version": "3.11.1"
  },
  "orig_nbformat": 4,
  "vscode": {
   "interpreter": {
    "hash": "90139cb9a825bf3d63f6f6704e828dbd1ff7edbd4d0c6e906a71235d6efc74af"
   }
  }
 },
 "nbformat": 4,
 "nbformat_minor": 2
}
